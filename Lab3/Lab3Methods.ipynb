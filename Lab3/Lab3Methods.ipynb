{
 "cells": [
  {
   "cell_type": "markdown",
   "metadata": {},
   "source": [
    "# Лабораторная работа №3\n",
    "## Обработка пропусков в данных, кодирование категориальных признаков, масштабирование данных.\n",
    "#### Цель лабораторной работы:\n",
    " \n",
    " изучение способов предварительной обработки данных для дальнейшего формирования моделей."
   ]
  },
  {
   "cell_type": "markdown",
   "metadata": {},
   "source": [
    "#### Задание:\n",
    "##### 1) Выбрать набор данных (датасет), содержащий категориальные признаки и пропуски в данных. Для выполнения следующих пунктов можно использовать несколько различных наборов данных (один для обработки пропусков, другой для категориальных признаков и т.д.)\n",
    "##### 2) Для выбранного датасета (датасетов) на основе материалов лекции решить следующие задачи:\n",
    "#####  a) обработку пропусков в данных (не менее 3 признаков);\n",
    "#####  b) кодирование категориальных признаков (не менее 3 признаков);\n",
    "#####  c) масштабирование данных (не менее 3 признаков)."
   ]
  },
  {
   "cell_type": "code",
   "execution_count": 13,
   "metadata": {},
   "outputs": [],
   "source": [
    "import numpy as np\n",
    "import pandas as pd\n",
    "import seaborn as sns\n",
    "import matplotlib.pyplot as plt\n",
    "%matplotlib inline \n",
    "sns.set(style=\"ticks\")"
   ]
  },
  {
   "cell_type": "code",
   "execution_count": 14,
   "metadata": {},
   "outputs": [],
   "source": [
    "data = pd.read_csv('C:/Dataset/dataset-limpo.csv', sep=\",\")"
   ]
  },
  {
   "cell_type": "markdown",
   "metadata": {},
   "source": [
    "Размер набора данных:"
   ]
  },
  {
   "cell_type": "code",
   "execution_count": 15,
   "metadata": {},
   "outputs": [
    {
     "name": "stdout",
     "output_type": "stream",
     "text": [
      "Всего строк: 12899\n",
      "Всего колонок: 36\n"
     ]
    }
   ],
   "source": [
    "total_count = data.shape\n",
    "print('Всего строк: {}'.format(total_count[0]))\n",
    "print('Всего колонок: {}'.format(total_count[1]))"
   ]
  },
  {
   "cell_type": "markdown",
   "metadata": {},
   "source": [
    "Тип каждого столбца"
   ]
  },
  {
   "cell_type": "code",
   "execution_count": 16,
   "metadata": {},
   "outputs": [
    {
     "data": {
      "text/plain": [
       "id                      int64\n",
       "bairro                 object\n",
       "created_at             object\n",
       "descricao              object\n",
       "endereco               object\n",
       "id.1                    int64\n",
       "ip_address_origin      object\n",
       "latitude              float64\n",
       "longitude             float64\n",
       "registrou_bo           object\n",
       "sexo                    int64\n",
       "tipo_assalto_id         int64\n",
       "titulo                 object\n",
       "uri                    object\n",
       "user_id               float64\n",
       "valor_prejuizo        float64\n",
       "Bicicleta              object\n",
       "Bolsa ou Mochila       object\n",
       "Carteira               object\n",
       "Cartão de Crédito      object\n",
       "Celular                object\n",
       "Computador             object\n",
       "DVD                    object\n",
       "Dinheiro               object\n",
       "Documentos             object\n",
       "Equipamento de Som     object\n",
       "Estepe                 object\n",
       "MP4 ou Ipod            object\n",
       "Móveis                 object\n",
       "Notebook               object\n",
       "Outros                 object\n",
       "Relógio                object\n",
       "Som                    object\n",
       "Tablet                 object\n",
       "Tv                     object\n",
       "time                   object\n",
       "dtype: object"
      ]
     },
     "execution_count": 16,
     "metadata": {},
     "output_type": "execute_result"
    }
   ],
   "source": [
    "data.dtypes"
   ]
  },
  {
   "cell_type": "markdown",
   "metadata": {},
   "source": [
    "Проверка на пустые значения"
   ]
  },
  {
   "cell_type": "code",
   "execution_count": 17,
   "metadata": {
    "scrolled": true
   },
   "outputs": [
    {
     "data": {
      "text/plain": [
       "id                        0\n",
       "bairro                 1703\n",
       "created_at                0\n",
       "descricao                 1\n",
       "endereco                  0\n",
       "id.1                      0\n",
       "ip_address_origin      1194\n",
       "latitude                  0\n",
       "longitude                 0\n",
       "registrou_bo            524\n",
       "sexo                      0\n",
       "tipo_assalto_id           0\n",
       "titulo                    0\n",
       "uri                       0\n",
       "user_id               11733\n",
       "valor_prejuizo            0\n",
       "Bicicleta             12643\n",
       "Bolsa ou Mochila       9268\n",
       "Carteira               8656\n",
       "Cartão de Crédito     10123\n",
       "Celular                4522\n",
       "Computador            12787\n",
       "DVD                   12805\n",
       "Dinheiro              11169\n",
       "Documentos             9239\n",
       "Equipamento de Som    12660\n",
       "Estepe                12575\n",
       "MP4 ou Ipod           12347\n",
       "Móveis                12854\n",
       "Notebook              12135\n",
       "Outros                 7656\n",
       "Relógio               11549\n",
       "Som                   12793\n",
       "Tablet                12456\n",
       "Tv                    12721\n",
       "time                      0\n",
       "dtype: int64"
      ]
     },
     "execution_count": 17,
     "metadata": {},
     "output_type": "execute_result"
    }
   ],
   "source": [
    "data.isnull().sum()"
   ]
  },
  {
   "cell_type": "markdown",
   "metadata": {},
   "source": [
    "Первые 5 строк"
   ]
  },
  {
   "cell_type": "code",
   "execution_count": 18,
   "metadata": {},
   "outputs": [
    {
     "data": {
      "text/html": [
       "<div>\n",
       "<style scoped>\n",
       "    .dataframe tbody tr th:only-of-type {\n",
       "        vertical-align: middle;\n",
       "    }\n",
       "\n",
       "    .dataframe tbody tr th {\n",
       "        vertical-align: top;\n",
       "    }\n",
       "\n",
       "    .dataframe thead th {\n",
       "        text-align: right;\n",
       "    }\n",
       "</style>\n",
       "<table border=\"1\" class=\"dataframe\">\n",
       "  <thead>\n",
       "    <tr style=\"text-align: right;\">\n",
       "      <th></th>\n",
       "      <th>id</th>\n",
       "      <th>bairro</th>\n",
       "      <th>created_at</th>\n",
       "      <th>descricao</th>\n",
       "      <th>endereco</th>\n",
       "      <th>id.1</th>\n",
       "      <th>ip_address_origin</th>\n",
       "      <th>latitude</th>\n",
       "      <th>longitude</th>\n",
       "      <th>registrou_bo</th>\n",
       "      <th>...</th>\n",
       "      <th>Estepe</th>\n",
       "      <th>MP4 ou Ipod</th>\n",
       "      <th>Móveis</th>\n",
       "      <th>Notebook</th>\n",
       "      <th>Outros</th>\n",
       "      <th>Relógio</th>\n",
       "      <th>Som</th>\n",
       "      <th>Tablet</th>\n",
       "      <th>Tv</th>\n",
       "      <th>time</th>\n",
       "    </tr>\n",
       "  </thead>\n",
       "  <tbody>\n",
       "    <tr>\n",
       "      <th>0</th>\n",
       "      <td>49787</td>\n",
       "      <td>Butantã</td>\n",
       "      <td>2015-06-16 23:34:01.000</td>\n",
       "      <td>5 bandidos, armas, entraram em casa e vasculha...</td>\n",
       "      <td>Avenida Trona Constanzo, 177, Butantã</td>\n",
       "      <td>49787</td>\n",
       "      <td>NaN</td>\n",
       "      <td>-23.580973</td>\n",
       "      <td>-46.719192</td>\n",
       "      <td>True</td>\n",
       "      <td>...</td>\n",
       "      <td>NaN</td>\n",
       "      <td>True</td>\n",
       "      <td>NaN</td>\n",
       "      <td>True</td>\n",
       "      <td>NaN</td>\n",
       "      <td>NaN</td>\n",
       "      <td>True</td>\n",
       "      <td>True</td>\n",
       "      <td>True</td>\n",
       "      <td>2010-12-20 20:30:00.000</td>\n",
       "    </tr>\n",
       "    <tr>\n",
       "      <th>1</th>\n",
       "      <td>10679</td>\n",
       "      <td>Itaquera</td>\n",
       "      <td>2013-09-11 18:26:31.819</td>\n",
       "      <td>Meu caso foi para o Pequenas Causas, ganhamos ...</td>\n",
       "      <td>Avenida José Pinheiro Borges, 450-876 - Itaque...</td>\n",
       "      <td>10679</td>\n",
       "      <td>187.11.1.51</td>\n",
       "      <td>-23.540105</td>\n",
       "      <td>-46.462872</td>\n",
       "      <td>True</td>\n",
       "      <td>...</td>\n",
       "      <td>NaN</td>\n",
       "      <td>NaN</td>\n",
       "      <td>NaN</td>\n",
       "      <td>NaN</td>\n",
       "      <td>True</td>\n",
       "      <td>NaN</td>\n",
       "      <td>NaN</td>\n",
       "      <td>NaN</td>\n",
       "      <td>NaN</td>\n",
       "      <td>2012-01-11 14:00:00.000</td>\n",
       "    </tr>\n",
       "    <tr>\n",
       "      <th>2</th>\n",
       "      <td>10682</td>\n",
       "      <td>Itaquera</td>\n",
       "      <td>2013-09-11 18:42:07.858</td>\n",
       "      <td>Meu caso foi para o Pequenas Causas, ganhamos ...</td>\n",
       "      <td>Rua Corínthians - Itaquera - Shopping Metrô It...</td>\n",
       "      <td>10682</td>\n",
       "      <td>189.19.160.82</td>\n",
       "      <td>-23.541765</td>\n",
       "      <td>-46.469562</td>\n",
       "      <td>True</td>\n",
       "      <td>...</td>\n",
       "      <td>NaN</td>\n",
       "      <td>NaN</td>\n",
       "      <td>NaN</td>\n",
       "      <td>NaN</td>\n",
       "      <td>True</td>\n",
       "      <td>NaN</td>\n",
       "      <td>NaN</td>\n",
       "      <td>NaN</td>\n",
       "      <td>NaN</td>\n",
       "      <td>2012-01-11 14:00:00.000</td>\n",
       "    </tr>\n",
       "    <tr>\n",
       "      <th>3</th>\n",
       "      <td>6166</td>\n",
       "      <td>Morumbi</td>\n",
       "      <td>2013-08-20 11:56:52.717</td>\n",
       "      <td>Estava parada no semáforo, o bandido veio e es...</td>\n",
       "      <td>Rua Pasquale Gallupi, 347 - Morumbi, São Paulo...</td>\n",
       "      <td>6166</td>\n",
       "      <td>199.67.140.46</td>\n",
       "      <td>-23.611693</td>\n",
       "      <td>-46.725935</td>\n",
       "      <td>True</td>\n",
       "      <td>...</td>\n",
       "      <td>NaN</td>\n",
       "      <td>NaN</td>\n",
       "      <td>NaN</td>\n",
       "      <td>NaN</td>\n",
       "      <td>NaN</td>\n",
       "      <td>NaN</td>\n",
       "      <td>NaN</td>\n",
       "      <td>NaN</td>\n",
       "      <td>NaN</td>\n",
       "      <td>2012-01-11 18:20:00.000</td>\n",
       "    </tr>\n",
       "    <tr>\n",
       "      <th>4</th>\n",
       "      <td>6521</td>\n",
       "      <td>Alto de Pinheiros</td>\n",
       "      <td>2013-08-20 17:41:21.569</td>\n",
       "      <td>Arrombaram o porta malas do meu carro e levara...</td>\n",
       "      <td>Avenida Professor Fonseca Rodrigues, 1655 - Al...</td>\n",
       "      <td>6521</td>\n",
       "      <td>187.92.158.154</td>\n",
       "      <td>-23.544564</td>\n",
       "      <td>-46.721567</td>\n",
       "      <td>True</td>\n",
       "      <td>...</td>\n",
       "      <td>NaN</td>\n",
       "      <td>NaN</td>\n",
       "      <td>NaN</td>\n",
       "      <td>True</td>\n",
       "      <td>True</td>\n",
       "      <td>NaN</td>\n",
       "      <td>NaN</td>\n",
       "      <td>NaN</td>\n",
       "      <td>NaN</td>\n",
       "      <td>2012-01-11 08:15:00.000</td>\n",
       "    </tr>\n",
       "  </tbody>\n",
       "</table>\n",
       "<p>5 rows × 36 columns</p>\n",
       "</div>"
      ],
      "text/plain": [
       "      id             bairro               created_at  \\\n",
       "0  49787            Butantã  2015-06-16 23:34:01.000   \n",
       "1  10679           Itaquera  2013-09-11 18:26:31.819   \n",
       "2  10682           Itaquera  2013-09-11 18:42:07.858   \n",
       "3   6166            Morumbi  2013-08-20 11:56:52.717   \n",
       "4   6521  Alto de Pinheiros  2013-08-20 17:41:21.569   \n",
       "\n",
       "                                           descricao  \\\n",
       "0  5 bandidos, armas, entraram em casa e vasculha...   \n",
       "1  Meu caso foi para o Pequenas Causas, ganhamos ...   \n",
       "2  Meu caso foi para o Pequenas Causas, ganhamos ...   \n",
       "3  Estava parada no semáforo, o bandido veio e es...   \n",
       "4  Arrombaram o porta malas do meu carro e levara...   \n",
       "\n",
       "                                            endereco   id.1 ip_address_origin  \\\n",
       "0              Avenida Trona Constanzo, 177, Butantã  49787               NaN   \n",
       "1  Avenida José Pinheiro Borges, 450-876 - Itaque...  10679       187.11.1.51   \n",
       "2  Rua Corínthians - Itaquera - Shopping Metrô It...  10682     189.19.160.82   \n",
       "3  Rua Pasquale Gallupi, 347 - Morumbi, São Paulo...   6166     199.67.140.46   \n",
       "4  Avenida Professor Fonseca Rodrigues, 1655 - Al...   6521    187.92.158.154   \n",
       "\n",
       "    latitude  longitude registrou_bo  ...  Estepe  MP4 ou Ipod Móveis  \\\n",
       "0 -23.580973 -46.719192         True  ...     NaN         True    NaN   \n",
       "1 -23.540105 -46.462872         True  ...     NaN          NaN    NaN   \n",
       "2 -23.541765 -46.469562         True  ...     NaN          NaN    NaN   \n",
       "3 -23.611693 -46.725935         True  ...     NaN          NaN    NaN   \n",
       "4 -23.544564 -46.721567         True  ...     NaN          NaN    NaN   \n",
       "\n",
       "  Notebook  Outros  Relógio   Som Tablet    Tv                     time  \n",
       "0     True     NaN      NaN  True   True  True  2010-12-20 20:30:00.000  \n",
       "1      NaN    True      NaN   NaN    NaN   NaN  2012-01-11 14:00:00.000  \n",
       "2      NaN    True      NaN   NaN    NaN   NaN  2012-01-11 14:00:00.000  \n",
       "3      NaN     NaN      NaN   NaN    NaN   NaN  2012-01-11 18:20:00.000  \n",
       "4     True    True      NaN   NaN    NaN   NaN  2012-01-11 08:15:00.000  \n",
       "\n",
       "[5 rows x 36 columns]"
      ]
     },
     "execution_count": 18,
     "metadata": {},
     "output_type": "execute_result"
    }
   ],
   "source": [
    "data.head()"
   ]
  },
  {
   "cell_type": "markdown",
   "metadata": {},
   "source": [
    "### 1. Обработкa пропусков в данных"
   ]
  },
  {
   "cell_type": "markdown",
   "metadata": {},
   "source": [
    "Выберем  колонки с пропущенными значениями"
   ]
  },
  {
   "cell_type": "code",
   "execution_count": 19,
   "metadata": {},
   "outputs": [
    {
     "name": "stdout",
     "output_type": "stream",
     "text": [
      "Колонка bairro. Тип данных object. Количество пустых значений 1703, 13.2%.\n",
      "Колонка descricao. Тип данных object. Количество пустых значений 1, 0.01%.\n",
      "Колонка ip_address_origin. Тип данных object. Количество пустых значений 1194, 9.26%.\n",
      "Колонка registrou_bo. Тип данных object. Количество пустых значений 524, 4.06%.\n",
      "Колонка Bicicleta. Тип данных object. Количество пустых значений 12643, 98.02%.\n",
      "Колонка Bolsa ou Mochila. Тип данных object. Количество пустых значений 9268, 71.85%.\n",
      "Колонка Carteira. Тип данных object. Количество пустых значений 8656, 67.11%.\n",
      "Колонка Cartão de Crédito. Тип данных object. Количество пустых значений 10123, 78.48%.\n",
      "Колонка Celular. Тип данных object. Количество пустых значений 4522, 35.06%.\n",
      "Колонка Computador. Тип данных object. Количество пустых значений 12787, 99.13%.\n",
      "Колонка DVD. Тип данных object. Количество пустых значений 12805, 99.27%.\n",
      "Колонка Dinheiro. Тип данных object. Количество пустых значений 11169, 86.59%.\n",
      "Колонка Documentos. Тип данных object. Количество пустых значений 9239, 71.63%.\n",
      "Колонка Equipamento de Som. Тип данных object. Количество пустых значений 12660, 98.15%.\n",
      "Колонка Estepe. Тип данных object. Количество пустых значений 12575, 97.49%.\n",
      "Колонка MP4 ou Ipod. Тип данных object. Количество пустых значений 12347, 95.72%.\n",
      "Колонка Móveis. Тип данных object. Количество пустых значений 12854, 99.65%.\n",
      "Колонка Notebook. Тип данных object. Количество пустых значений 12135, 94.08%.\n",
      "Колонка Outros. Тип данных object. Количество пустых значений 7656, 59.35%.\n",
      "Колонка Relógio. Тип данных object. Количество пустых значений 11549, 89.53%.\n",
      "Колонка Som. Тип данных object. Количество пустых значений 12793, 99.18%.\n",
      "Колонка Tablet. Тип данных object. Количество пустых значений 12456, 96.57%.\n",
      "Колонка Tv. Тип данных object. Количество пустых значений 12721, 98.62%.\n"
     ]
    }
   ],
   "source": [
    "num_cols = []\n",
    "total_count = data.shape[0]\n",
    "for col in data.columns:\n",
    "    # Количество пустых значений \n",
    "    temp_null_count = data[data[col].isnull()].shape[0]\n",
    "    dt = str(data[col].dtype)\n",
    "    if temp_null_count>0 and (dt=='object'):\n",
    "        num_cols.append(col)\n",
    "        temp_perc = round((temp_null_count / total_count) * 100.0, 2)\n",
    "        print('Колонка {}. Тип данных {}. Количество пустых значений {}, {}%.'.format(col, dt, temp_null_count, temp_perc))"
   ]
  },
  {
   "cell_type": "code",
   "execution_count": 20,
   "metadata": {},
   "outputs": [],
   "source": [
    "from sklearn.impute import SimpleImputer\n",
    "from sklearn.impute import MissingIndicator"
   ]
  },
  {
   "cell_type": "code",
   "execution_count": 23,
   "metadata": {},
   "outputs": [
    {
     "data": {
      "text/plain": [
       "array([True, False, nan], dtype=object)"
      ]
     },
     "execution_count": 23,
     "metadata": {},
     "output_type": "execute_result"
    }
   ],
   "source": [
    "cat_temp_data_registr = data[['registrou_bo']]\n",
    "cat_temp_data_registr['registrou_bo'].unique()"
   ]
  },
  {
   "cell_type": "markdown",
   "metadata": {},
   "source": [
    "Импьютация наиболее частыми значениями"
   ]
  },
  {
   "cell_type": "code",
   "execution_count": 24,
   "metadata": {
    "scrolled": true
   },
   "outputs": [
    {
     "data": {
      "text/plain": [
       "array([[True],\n",
       "       [True],\n",
       "       [True],\n",
       "       ...,\n",
       "       [False],\n",
       "       [True],\n",
       "       [False]], dtype=object)"
      ]
     },
     "execution_count": 24,
     "metadata": {},
     "output_type": "execute_result"
    }
   ],
   "source": [
    "imp1 = SimpleImputer(missing_values=np.nan, strategy='most_frequent')\n",
    "data_imp1 = imp1.fit_transform(cat_temp_data_registr)\n",
    "data_imp1"
   ]
  },
  {
   "cell_type": "markdown",
   "metadata": {},
   "source": [
    "Пустые значения отсутствуют"
   ]
  },
  {
   "cell_type": "code",
   "execution_count": 25,
   "metadata": {},
   "outputs": [
    {
     "data": {
      "text/plain": [
       "array([False, True], dtype=object)"
      ]
     },
     "execution_count": 25,
     "metadata": {},
     "output_type": "execute_result"
    }
   ],
   "source": [
    "np.unique(data_imp1)"
   ]
  },
  {
   "cell_type": "code",
   "execution_count": 27,
   "metadata": {},
   "outputs": [
    {
     "data": {
      "text/plain": [
       "array(['Butantã', 'Itaquera', 'Morumbi', ..., 'Rua Carlos Sampaio',\n",
       "       'Vila Maracana', 'Vila Joao Ramalho'], dtype=object)"
      ]
     },
     "execution_count": 27,
     "metadata": {},
     "output_type": "execute_result"
    }
   ],
   "source": [
    "cat_temp_data_dvd = data[['bairro']]\n",
    "cat_temp_data_dvd['bairro'].unique()"
   ]
  },
  {
   "cell_type": "markdown",
   "metadata": {},
   "source": [
    "Импьютация наиболее частыми значениями"
   ]
  },
  {
   "cell_type": "code",
   "execution_count": 28,
   "metadata": {},
   "outputs": [
    {
     "data": {
      "text/plain": [
       "array([['Butantã'],\n",
       "       ['Itaquera'],\n",
       "       ['Itaquera'],\n",
       "       ...,\n",
       "       ['Vila Joao Ramalho'],\n",
       "       ['Campo Belo'],\n",
       "       ['Pinheiros']], dtype=object)"
      ]
     },
     "execution_count": 28,
     "metadata": {},
     "output_type": "execute_result"
    }
   ],
   "source": [
    "imp2 = SimpleImputer(missing_values=np.nan, strategy='most_frequent')\n",
    "data_imp2 = imp2.fit_transform(cat_temp_data_dvd)\n",
    "data_imp2"
   ]
  },
  {
   "cell_type": "markdown",
   "metadata": {},
   "source": [
    "Пустые значения отсутствуют"
   ]
  },
  {
   "cell_type": "code",
   "execution_count": 29,
   "metadata": {},
   "outputs": [
    {
     "data": {
      "text/plain": [
       "array(['9 de Julho', 'Aclimação', 'Alameda Joaquim Eugênio de Lima', ...,\n",
       "       'ヴィーラ・モルンビ', 'ヴィーラ・モレイラ', 'ヴィーラ・レイス'], dtype=object)"
      ]
     },
     "execution_count": 29,
     "metadata": {},
     "output_type": "execute_result"
    }
   ],
   "source": [
    "np.unique(data_imp2)"
   ]
  },
  {
   "cell_type": "code",
   "execution_count": 30,
   "metadata": {},
   "outputs": [
    {
     "data": {
      "text/plain": [
       "array([nan, '187.11.1.51', '189.19.160.82', ..., '189.100.243.242',\n",
       "       '189.38.212.209', '177.103.229.244'], dtype=object)"
      ]
     },
     "execution_count": 30,
     "metadata": {},
     "output_type": "execute_result"
    }
   ],
   "source": [
    "cat_temp_data_ip = data[['ip_address_origin']]\n",
    "cat_temp_data_ip['ip_address_origin'].unique()"
   ]
  },
  {
   "cell_type": "markdown",
   "metadata": {},
   "source": [
    "Импьютация константой"
   ]
  },
  {
   "cell_type": "code",
   "execution_count": 31,
   "metadata": {
    "scrolled": true
   },
   "outputs": [
    {
     "data": {
      "text/plain": [
       "array([['192.0.0.1'],\n",
       "       ['187.11.1.51'],\n",
       "       ['189.19.160.82'],\n",
       "       ...,\n",
       "       ['177.103.229.244'],\n",
       "       ['200.161.48.250'],\n",
       "       ['177.32.220.159']], dtype=object)"
      ]
     },
     "execution_count": 31,
     "metadata": {},
     "output_type": "execute_result"
    }
   ],
   "source": [
    "imp3 = SimpleImputer(missing_values=np.nan, strategy='constant', fill_value='192.0.0.1')\n",
    "data_imp3 = imp3.fit_transform(cat_temp_data_ip)\n",
    "data_imp3"
   ]
  },
  {
   "cell_type": "markdown",
   "metadata": {},
   "source": [
    "Пустые значения отсутствуют"
   ]
  },
  {
   "cell_type": "code",
   "execution_count": 32,
   "metadata": {},
   "outputs": [
    {
     "data": {
      "text/plain": [
       "array(['104.129.196.99', '104.129.198.64', '104.132.119.91', ...,\n",
       "       '95.22.55.157', '95.233.181.88', '98.210.7.128'], dtype=object)"
      ]
     },
     "execution_count": 32,
     "metadata": {},
     "output_type": "execute_result"
    }
   ],
   "source": [
    "np.unique(data_imp3)"
   ]
  },
  {
   "cell_type": "markdown",
   "metadata": {},
   "source": [
    "### 2. Кодирование категориальных признаков"
   ]
  },
  {
   "cell_type": "markdown",
   "metadata": {},
   "source": [
    "2.1. Кодирование категорий целочисленными значениями"
   ]
  },
  {
   "cell_type": "code",
   "execution_count": 33,
   "metadata": {},
   "outputs": [
    {
     "data": {
      "text/html": [
       "<div>\n",
       "<style scoped>\n",
       "    .dataframe tbody tr th:only-of-type {\n",
       "        vertical-align: middle;\n",
       "    }\n",
       "\n",
       "    .dataframe tbody tr th {\n",
       "        vertical-align: top;\n",
       "    }\n",
       "\n",
       "    .dataframe thead th {\n",
       "        text-align: right;\n",
       "    }\n",
       "</style>\n",
       "<table border=\"1\" class=\"dataframe\">\n",
       "  <thead>\n",
       "    <tr style=\"text-align: right;\">\n",
       "      <th></th>\n",
       "      <th>c1</th>\n",
       "    </tr>\n",
       "  </thead>\n",
       "  <tbody>\n",
       "    <tr>\n",
       "      <th>0</th>\n",
       "      <td>True</td>\n",
       "    </tr>\n",
       "    <tr>\n",
       "      <th>1</th>\n",
       "      <td>True</td>\n",
       "    </tr>\n",
       "    <tr>\n",
       "      <th>2</th>\n",
       "      <td>True</td>\n",
       "    </tr>\n",
       "    <tr>\n",
       "      <th>3</th>\n",
       "      <td>True</td>\n",
       "    </tr>\n",
       "    <tr>\n",
       "      <th>4</th>\n",
       "      <td>True</td>\n",
       "    </tr>\n",
       "    <tr>\n",
       "      <th>...</th>\n",
       "      <td>...</td>\n",
       "    </tr>\n",
       "    <tr>\n",
       "      <th>12894</th>\n",
       "      <td>False</td>\n",
       "    </tr>\n",
       "    <tr>\n",
       "      <th>12895</th>\n",
       "      <td>True</td>\n",
       "    </tr>\n",
       "    <tr>\n",
       "      <th>12896</th>\n",
       "      <td>False</td>\n",
       "    </tr>\n",
       "    <tr>\n",
       "      <th>12897</th>\n",
       "      <td>True</td>\n",
       "    </tr>\n",
       "    <tr>\n",
       "      <th>12898</th>\n",
       "      <td>False</td>\n",
       "    </tr>\n",
       "  </tbody>\n",
       "</table>\n",
       "<p>12899 rows × 1 columns</p>\n",
       "</div>"
      ],
      "text/plain": [
       "          c1\n",
       "0       True\n",
       "1       True\n",
       "2       True\n",
       "3       True\n",
       "4       True\n",
       "...      ...\n",
       "12894  False\n",
       "12895   True\n",
       "12896  False\n",
       "12897   True\n",
       "12898  False\n",
       "\n",
       "[12899 rows x 1 columns]"
      ]
     },
     "execution_count": 33,
     "metadata": {},
     "output_type": "execute_result"
    }
   ],
   "source": [
    "cat_enc = pd.DataFrame({'c1':data_imp1.T[0]})\n",
    "cat_enc"
   ]
  },
  {
   "cell_type": "code",
   "execution_count": 34,
   "metadata": {},
   "outputs": [],
   "source": [
    "from sklearn.preprocessing import LabelEncoder, OneHotEncoder"
   ]
  },
  {
   "cell_type": "code",
   "execution_count": 35,
   "metadata": {},
   "outputs": [
    {
     "data": {
      "text/plain": [
       "array([True, False], dtype=object)"
      ]
     },
     "execution_count": 35,
     "metadata": {},
     "output_type": "execute_result"
    }
   ],
   "source": [
    "le = LabelEncoder()\n",
    "cat_enc_le = le.fit_transform(cat_enc['c1'])\n",
    "cat_enc['c1'].unique()"
   ]
  },
  {
   "cell_type": "code",
   "execution_count": 36,
   "metadata": {},
   "outputs": [
    {
     "data": {
      "text/plain": [
       "array([0, 1])"
      ]
     },
     "execution_count": 36,
     "metadata": {},
     "output_type": "execute_result"
    }
   ],
   "source": [
    "np.unique(cat_enc_le)"
   ]
  },
  {
   "cell_type": "code",
   "execution_count": 38,
   "metadata": {},
   "outputs": [
    {
     "data": {
      "text/plain": [
       "array([False, True], dtype=object)"
      ]
     },
     "execution_count": 38,
     "metadata": {},
     "output_type": "execute_result"
    }
   ],
   "source": [
    "le.inverse_transform([ 0,  1])"
   ]
  },
  {
   "cell_type": "markdown",
   "metadata": {},
   "source": [
    "2.2. Кодирование категорий наборами бинарных значений"
   ]
  },
  {
   "cell_type": "code",
   "execution_count": 39,
   "metadata": {},
   "outputs": [
    {
     "data": {
      "text/html": [
       "<div>\n",
       "<style scoped>\n",
       "    .dataframe tbody tr th:only-of-type {\n",
       "        vertical-align: middle;\n",
       "    }\n",
       "\n",
       "    .dataframe tbody tr th {\n",
       "        vertical-align: top;\n",
       "    }\n",
       "\n",
       "    .dataframe thead th {\n",
       "        text-align: right;\n",
       "    }\n",
       "</style>\n",
       "<table border=\"1\" class=\"dataframe\">\n",
       "  <thead>\n",
       "    <tr style=\"text-align: right;\">\n",
       "      <th></th>\n",
       "      <th>c2</th>\n",
       "    </tr>\n",
       "  </thead>\n",
       "  <tbody>\n",
       "    <tr>\n",
       "      <th>0</th>\n",
       "      <td>Butantã</td>\n",
       "    </tr>\n",
       "    <tr>\n",
       "      <th>1</th>\n",
       "      <td>Itaquera</td>\n",
       "    </tr>\n",
       "    <tr>\n",
       "      <th>2</th>\n",
       "      <td>Itaquera</td>\n",
       "    </tr>\n",
       "    <tr>\n",
       "      <th>3</th>\n",
       "      <td>Morumbi</td>\n",
       "    </tr>\n",
       "    <tr>\n",
       "      <th>4</th>\n",
       "      <td>Alto de Pinheiros</td>\n",
       "    </tr>\n",
       "    <tr>\n",
       "      <th>...</th>\n",
       "      <td>...</td>\n",
       "    </tr>\n",
       "    <tr>\n",
       "      <th>12894</th>\n",
       "      <td>Jardim das Camelias</td>\n",
       "    </tr>\n",
       "    <tr>\n",
       "      <th>12895</th>\n",
       "      <td>Jardim Paulista</td>\n",
       "    </tr>\n",
       "    <tr>\n",
       "      <th>12896</th>\n",
       "      <td>Vila Joao Ramalho</td>\n",
       "    </tr>\n",
       "    <tr>\n",
       "      <th>12897</th>\n",
       "      <td>Campo Belo</td>\n",
       "    </tr>\n",
       "    <tr>\n",
       "      <th>12898</th>\n",
       "      <td>Pinheiros</td>\n",
       "    </tr>\n",
       "  </tbody>\n",
       "</table>\n",
       "<p>12899 rows × 1 columns</p>\n",
       "</div>"
      ],
      "text/plain": [
       "                        c2\n",
       "0                  Butantã\n",
       "1                 Itaquera\n",
       "2                 Itaquera\n",
       "3                  Morumbi\n",
       "4        Alto de Pinheiros\n",
       "...                    ...\n",
       "12894  Jardim das Camelias\n",
       "12895      Jardim Paulista\n",
       "12896    Vila Joao Ramalho\n",
       "12897           Campo Belo\n",
       "12898            Pinheiros\n",
       "\n",
       "[12899 rows x 1 columns]"
      ]
     },
     "execution_count": 39,
     "metadata": {},
     "output_type": "execute_result"
    }
   ],
   "source": [
    "cat_enc2 = pd.DataFrame({'c2':data_imp2.T[0]})\n",
    "cat_enc2"
   ]
  },
  {
   "cell_type": "code",
   "execution_count": 40,
   "metadata": {},
   "outputs": [
    {
     "data": {
      "text/plain": [
       "<12899x1577 sparse matrix of type '<class 'numpy.float64'>'\n",
       "\twith 12899 stored elements in Compressed Sparse Row format>"
      ]
     },
     "execution_count": 40,
     "metadata": {},
     "output_type": "execute_result"
    }
   ],
   "source": [
    "ohe = OneHotEncoder()\n",
    "cat_enc2_ohe = ohe.fit_transform(cat_enc2[['c2']])\n",
    "cat_enc2_ohe"
   ]
  },
  {
   "cell_type": "code",
   "execution_count": 41,
   "metadata": {},
   "outputs": [
    {
     "data": {
      "text/plain": [
       "matrix([[0., 0., 0., ..., 0., 0., 0.],\n",
       "        [0., 0., 0., ..., 0., 0., 0.],\n",
       "        [0., 0., 0., ..., 0., 0., 0.],\n",
       "        ...,\n",
       "        [0., 0., 0., ..., 0., 0., 0.],\n",
       "        [0., 0., 0., ..., 0., 0., 0.],\n",
       "        [0., 0., 0., ..., 0., 0., 0.]])"
      ]
     },
     "execution_count": 41,
     "metadata": {},
     "output_type": "execute_result"
    }
   ],
   "source": [
    "cat_enc2_ohe.todense()[0:10]"
   ]
  },
  {
   "cell_type": "code",
   "execution_count": 42,
   "metadata": {},
   "outputs": [
    {
     "data": {
      "text/html": [
       "<div>\n",
       "<style scoped>\n",
       "    .dataframe tbody tr th:only-of-type {\n",
       "        vertical-align: middle;\n",
       "    }\n",
       "\n",
       "    .dataframe tbody tr th {\n",
       "        vertical-align: top;\n",
       "    }\n",
       "\n",
       "    .dataframe thead th {\n",
       "        text-align: right;\n",
       "    }\n",
       "</style>\n",
       "<table border=\"1\" class=\"dataframe\">\n",
       "  <thead>\n",
       "    <tr style=\"text-align: right;\">\n",
       "      <th></th>\n",
       "      <th>c2</th>\n",
       "    </tr>\n",
       "  </thead>\n",
       "  <tbody>\n",
       "    <tr>\n",
       "      <th>0</th>\n",
       "      <td>Butantã</td>\n",
       "    </tr>\n",
       "    <tr>\n",
       "      <th>1</th>\n",
       "      <td>Itaquera</td>\n",
       "    </tr>\n",
       "    <tr>\n",
       "      <th>2</th>\n",
       "      <td>Itaquera</td>\n",
       "    </tr>\n",
       "    <tr>\n",
       "      <th>3</th>\n",
       "      <td>Morumbi</td>\n",
       "    </tr>\n",
       "    <tr>\n",
       "      <th>4</th>\n",
       "      <td>Alto de Pinheiros</td>\n",
       "    </tr>\n",
       "    <tr>\n",
       "      <th>5</th>\n",
       "      <td>Butantã</td>\n",
       "    </tr>\n",
       "    <tr>\n",
       "      <th>6</th>\n",
       "      <td>Sumaré</td>\n",
       "    </tr>\n",
       "    <tr>\n",
       "      <th>7</th>\n",
       "      <td>Vila Mariana</td>\n",
       "    </tr>\n",
       "    <tr>\n",
       "      <th>8</th>\n",
       "      <td>Barra Funda</td>\n",
       "    </tr>\n",
       "    <tr>\n",
       "      <th>9</th>\n",
       "      <td>Santana</td>\n",
       "    </tr>\n",
       "  </tbody>\n",
       "</table>\n",
       "</div>"
      ],
      "text/plain": [
       "                  c2\n",
       "0            Butantã\n",
       "1           Itaquera\n",
       "2           Itaquera\n",
       "3            Morumbi\n",
       "4  Alto de Pinheiros\n",
       "5            Butantã\n",
       "6             Sumaré\n",
       "7       Vila Mariana\n",
       "8        Barra Funda\n",
       "9            Santana"
      ]
     },
     "execution_count": 42,
     "metadata": {},
     "output_type": "execute_result"
    }
   ],
   "source": [
    "cat_enc2.head(10)"
   ]
  },
  {
   "cell_type": "markdown",
   "metadata": {},
   "source": [
    "2.3. Быстрый вариант one-hot кодирования"
   ]
  },
  {
   "cell_type": "code",
   "execution_count": 43,
   "metadata": {},
   "outputs": [
    {
     "data": {
      "text/html": [
       "<div>\n",
       "<style scoped>\n",
       "    .dataframe tbody tr th:only-of-type {\n",
       "        vertical-align: middle;\n",
       "    }\n",
       "\n",
       "    .dataframe tbody tr th {\n",
       "        vertical-align: top;\n",
       "    }\n",
       "\n",
       "    .dataframe thead th {\n",
       "        text-align: right;\n",
       "    }\n",
       "</style>\n",
       "<table border=\"1\" class=\"dataframe\">\n",
       "  <thead>\n",
       "    <tr style=\"text-align: right;\">\n",
       "      <th></th>\n",
       "      <th>c3</th>\n",
       "    </tr>\n",
       "  </thead>\n",
       "  <tbody>\n",
       "    <tr>\n",
       "      <th>0</th>\n",
       "      <td>192.0.0.1</td>\n",
       "    </tr>\n",
       "    <tr>\n",
       "      <th>1</th>\n",
       "      <td>187.11.1.51</td>\n",
       "    </tr>\n",
       "    <tr>\n",
       "      <th>2</th>\n",
       "      <td>189.19.160.82</td>\n",
       "    </tr>\n",
       "    <tr>\n",
       "      <th>3</th>\n",
       "      <td>199.67.140.46</td>\n",
       "    </tr>\n",
       "    <tr>\n",
       "      <th>4</th>\n",
       "      <td>187.92.158.154</td>\n",
       "    </tr>\n",
       "    <tr>\n",
       "      <th>...</th>\n",
       "      <td>...</td>\n",
       "    </tr>\n",
       "    <tr>\n",
       "      <th>12894</th>\n",
       "      <td>189.100.243.242</td>\n",
       "    </tr>\n",
       "    <tr>\n",
       "      <th>12895</th>\n",
       "      <td>189.38.212.209</td>\n",
       "    </tr>\n",
       "    <tr>\n",
       "      <th>12896</th>\n",
       "      <td>177.103.229.244</td>\n",
       "    </tr>\n",
       "    <tr>\n",
       "      <th>12897</th>\n",
       "      <td>200.161.48.250</td>\n",
       "    </tr>\n",
       "    <tr>\n",
       "      <th>12898</th>\n",
       "      <td>177.32.220.159</td>\n",
       "    </tr>\n",
       "  </tbody>\n",
       "</table>\n",
       "<p>12899 rows × 1 columns</p>\n",
       "</div>"
      ],
      "text/plain": [
       "                    c3\n",
       "0            192.0.0.1\n",
       "1          187.11.1.51\n",
       "2        189.19.160.82\n",
       "3        199.67.140.46\n",
       "4       187.92.158.154\n",
       "...                ...\n",
       "12894  189.100.243.242\n",
       "12895   189.38.212.209\n",
       "12896  177.103.229.244\n",
       "12897   200.161.48.250\n",
       "12898   177.32.220.159\n",
       "\n",
       "[12899 rows x 1 columns]"
      ]
     },
     "execution_count": 43,
     "metadata": {},
     "output_type": "execute_result"
    }
   ],
   "source": [
    "cat_enc3 = pd.DataFrame({'c3':data_imp3.T[0]})\n",
    "cat_enc3"
   ]
  },
  {
   "cell_type": "code",
   "execution_count": 44,
   "metadata": {},
   "outputs": [
    {
     "data": {
      "text/html": [
       "<div>\n",
       "<style scoped>\n",
       "    .dataframe tbody tr th:only-of-type {\n",
       "        vertical-align: middle;\n",
       "    }\n",
       "\n",
       "    .dataframe tbody tr th {\n",
       "        vertical-align: top;\n",
       "    }\n",
       "\n",
       "    .dataframe thead th {\n",
       "        text-align: right;\n",
       "    }\n",
       "</style>\n",
       "<table border=\"1\" class=\"dataframe\">\n",
       "  <thead>\n",
       "    <tr style=\"text-align: right;\">\n",
       "      <th></th>\n",
       "      <th>c1_False</th>\n",
       "      <th>c1_True</th>\n",
       "    </tr>\n",
       "  </thead>\n",
       "  <tbody>\n",
       "    <tr>\n",
       "      <th>0</th>\n",
       "      <td>0</td>\n",
       "      <td>1</td>\n",
       "    </tr>\n",
       "    <tr>\n",
       "      <th>1</th>\n",
       "      <td>0</td>\n",
       "      <td>1</td>\n",
       "    </tr>\n",
       "    <tr>\n",
       "      <th>2</th>\n",
       "      <td>0</td>\n",
       "      <td>1</td>\n",
       "    </tr>\n",
       "    <tr>\n",
       "      <th>3</th>\n",
       "      <td>0</td>\n",
       "      <td>1</td>\n",
       "    </tr>\n",
       "    <tr>\n",
       "      <th>4</th>\n",
       "      <td>0</td>\n",
       "      <td>1</td>\n",
       "    </tr>\n",
       "  </tbody>\n",
       "</table>\n",
       "</div>"
      ],
      "text/plain": [
       "   c1_False  c1_True\n",
       "0         0        1\n",
       "1         0        1\n",
       "2         0        1\n",
       "3         0        1\n",
       "4         0        1"
      ]
     },
     "execution_count": 44,
     "metadata": {},
     "output_type": "execute_result"
    }
   ],
   "source": [
    "pd.get_dummies(cat_enc).head()"
   ]
  },
  {
   "cell_type": "code",
   "execution_count": 46,
   "metadata": {},
   "outputs": [
    {
     "data": {
      "text/html": [
       "<div>\n",
       "<style scoped>\n",
       "    .dataframe tbody tr th:only-of-type {\n",
       "        vertical-align: middle;\n",
       "    }\n",
       "\n",
       "    .dataframe tbody tr th {\n",
       "        vertical-align: top;\n",
       "    }\n",
       "\n",
       "    .dataframe thead th {\n",
       "        text-align: right;\n",
       "    }\n",
       "</style>\n",
       "<table border=\"1\" class=\"dataframe\">\n",
       "  <thead>\n",
       "    <tr style=\"text-align: right;\">\n",
       "      <th></th>\n",
       "      <th>ip_address_origin_104.129.196.99</th>\n",
       "      <th>ip_address_origin_104.129.198.64</th>\n",
       "      <th>ip_address_origin_104.132.119.91</th>\n",
       "      <th>ip_address_origin_107.167.108.172</th>\n",
       "      <th>ip_address_origin_107.167.108.182</th>\n",
       "      <th>ip_address_origin_107.167.111.82</th>\n",
       "      <th>ip_address_origin_107.167.113.134</th>\n",
       "      <th>ip_address_origin_107.167.116.246</th>\n",
       "      <th>ip_address_origin_107.178.37.127</th>\n",
       "      <th>ip_address_origin_107.204.70.37</th>\n",
       "      <th>...</th>\n",
       "      <th>ip_address_origin_87.216.218.39</th>\n",
       "      <th>ip_address_origin_89.65.15.184</th>\n",
       "      <th>ip_address_origin_90.207.84.224</th>\n",
       "      <th>ip_address_origin_92.137.216.248</th>\n",
       "      <th>ip_address_origin_93.104.191.160</th>\n",
       "      <th>ip_address_origin_93.108.150.250</th>\n",
       "      <th>ip_address_origin_95.22.55.157</th>\n",
       "      <th>ip_address_origin_95.233.181.88</th>\n",
       "      <th>ip_address_origin_98.210.7.128</th>\n",
       "      <th>ip_address_origin_nan</th>\n",
       "    </tr>\n",
       "  </thead>\n",
       "  <tbody>\n",
       "    <tr>\n",
       "      <th>0</th>\n",
       "      <td>0</td>\n",
       "      <td>0</td>\n",
       "      <td>0</td>\n",
       "      <td>0</td>\n",
       "      <td>0</td>\n",
       "      <td>0</td>\n",
       "      <td>0</td>\n",
       "      <td>0</td>\n",
       "      <td>0</td>\n",
       "      <td>0</td>\n",
       "      <td>...</td>\n",
       "      <td>0</td>\n",
       "      <td>0</td>\n",
       "      <td>0</td>\n",
       "      <td>0</td>\n",
       "      <td>0</td>\n",
       "      <td>0</td>\n",
       "      <td>0</td>\n",
       "      <td>0</td>\n",
       "      <td>0</td>\n",
       "      <td>1</td>\n",
       "    </tr>\n",
       "    <tr>\n",
       "      <th>1</th>\n",
       "      <td>0</td>\n",
       "      <td>0</td>\n",
       "      <td>0</td>\n",
       "      <td>0</td>\n",
       "      <td>0</td>\n",
       "      <td>0</td>\n",
       "      <td>0</td>\n",
       "      <td>0</td>\n",
       "      <td>0</td>\n",
       "      <td>0</td>\n",
       "      <td>...</td>\n",
       "      <td>0</td>\n",
       "      <td>0</td>\n",
       "      <td>0</td>\n",
       "      <td>0</td>\n",
       "      <td>0</td>\n",
       "      <td>0</td>\n",
       "      <td>0</td>\n",
       "      <td>0</td>\n",
       "      <td>0</td>\n",
       "      <td>0</td>\n",
       "    </tr>\n",
       "    <tr>\n",
       "      <th>2</th>\n",
       "      <td>0</td>\n",
       "      <td>0</td>\n",
       "      <td>0</td>\n",
       "      <td>0</td>\n",
       "      <td>0</td>\n",
       "      <td>0</td>\n",
       "      <td>0</td>\n",
       "      <td>0</td>\n",
       "      <td>0</td>\n",
       "      <td>0</td>\n",
       "      <td>...</td>\n",
       "      <td>0</td>\n",
       "      <td>0</td>\n",
       "      <td>0</td>\n",
       "      <td>0</td>\n",
       "      <td>0</td>\n",
       "      <td>0</td>\n",
       "      <td>0</td>\n",
       "      <td>0</td>\n",
       "      <td>0</td>\n",
       "      <td>0</td>\n",
       "    </tr>\n",
       "    <tr>\n",
       "      <th>3</th>\n",
       "      <td>0</td>\n",
       "      <td>0</td>\n",
       "      <td>0</td>\n",
       "      <td>0</td>\n",
       "      <td>0</td>\n",
       "      <td>0</td>\n",
       "      <td>0</td>\n",
       "      <td>0</td>\n",
       "      <td>0</td>\n",
       "      <td>0</td>\n",
       "      <td>...</td>\n",
       "      <td>0</td>\n",
       "      <td>0</td>\n",
       "      <td>0</td>\n",
       "      <td>0</td>\n",
       "      <td>0</td>\n",
       "      <td>0</td>\n",
       "      <td>0</td>\n",
       "      <td>0</td>\n",
       "      <td>0</td>\n",
       "      <td>0</td>\n",
       "    </tr>\n",
       "    <tr>\n",
       "      <th>4</th>\n",
       "      <td>0</td>\n",
       "      <td>0</td>\n",
       "      <td>0</td>\n",
       "      <td>0</td>\n",
       "      <td>0</td>\n",
       "      <td>0</td>\n",
       "      <td>0</td>\n",
       "      <td>0</td>\n",
       "      <td>0</td>\n",
       "      <td>0</td>\n",
       "      <td>...</td>\n",
       "      <td>0</td>\n",
       "      <td>0</td>\n",
       "      <td>0</td>\n",
       "      <td>0</td>\n",
       "      <td>0</td>\n",
       "      <td>0</td>\n",
       "      <td>0</td>\n",
       "      <td>0</td>\n",
       "      <td>0</td>\n",
       "      <td>0</td>\n",
       "    </tr>\n",
       "  </tbody>\n",
       "</table>\n",
       "<p>5 rows × 10433 columns</p>\n",
       "</div>"
      ],
      "text/plain": [
       "   ip_address_origin_104.129.196.99  ip_address_origin_104.129.198.64  \\\n",
       "0                                 0                                 0   \n",
       "1                                 0                                 0   \n",
       "2                                 0                                 0   \n",
       "3                                 0                                 0   \n",
       "4                                 0                                 0   \n",
       "\n",
       "   ip_address_origin_104.132.119.91  ip_address_origin_107.167.108.172  \\\n",
       "0                                 0                                  0   \n",
       "1                                 0                                  0   \n",
       "2                                 0                                  0   \n",
       "3                                 0                                  0   \n",
       "4                                 0                                  0   \n",
       "\n",
       "   ip_address_origin_107.167.108.182  ip_address_origin_107.167.111.82  \\\n",
       "0                                  0                                 0   \n",
       "1                                  0                                 0   \n",
       "2                                  0                                 0   \n",
       "3                                  0                                 0   \n",
       "4                                  0                                 0   \n",
       "\n",
       "   ip_address_origin_107.167.113.134  ip_address_origin_107.167.116.246  \\\n",
       "0                                  0                                  0   \n",
       "1                                  0                                  0   \n",
       "2                                  0                                  0   \n",
       "3                                  0                                  0   \n",
       "4                                  0                                  0   \n",
       "\n",
       "   ip_address_origin_107.178.37.127  ip_address_origin_107.204.70.37  ...  \\\n",
       "0                                 0                                0  ...   \n",
       "1                                 0                                0  ...   \n",
       "2                                 0                                0  ...   \n",
       "3                                 0                                0  ...   \n",
       "4                                 0                                0  ...   \n",
       "\n",
       "   ip_address_origin_87.216.218.39  ip_address_origin_89.65.15.184  \\\n",
       "0                                0                               0   \n",
       "1                                0                               0   \n",
       "2                                0                               0   \n",
       "3                                0                               0   \n",
       "4                                0                               0   \n",
       "\n",
       "   ip_address_origin_90.207.84.224  ip_address_origin_92.137.216.248  \\\n",
       "0                                0                                 0   \n",
       "1                                0                                 0   \n",
       "2                                0                                 0   \n",
       "3                                0                                 0   \n",
       "4                                0                                 0   \n",
       "\n",
       "   ip_address_origin_93.104.191.160  ip_address_origin_93.108.150.250  \\\n",
       "0                                 0                                 0   \n",
       "1                                 0                                 0   \n",
       "2                                 0                                 0   \n",
       "3                                 0                                 0   \n",
       "4                                 0                                 0   \n",
       "\n",
       "   ip_address_origin_95.22.55.157  ip_address_origin_95.233.181.88  \\\n",
       "0                               0                                0   \n",
       "1                               0                                0   \n",
       "2                               0                                0   \n",
       "3                               0                                0   \n",
       "4                               0                                0   \n",
       "\n",
       "   ip_address_origin_98.210.7.128  ip_address_origin_nan  \n",
       "0                               0                      1  \n",
       "1                               0                      0  \n",
       "2                               0                      0  \n",
       "3                               0                      0  \n",
       "4                               0                      0  \n",
       "\n",
       "[5 rows x 10433 columns]"
      ]
     },
     "execution_count": 46,
     "metadata": {},
     "output_type": "execute_result"
    }
   ],
   "source": [
    "pd.get_dummies(cat_temp_data_ip, dummy_na=True).head()"
   ]
  },
  {
   "cell_type": "markdown",
   "metadata": {},
   "source": [
    "### 3. Масштабирование данных"
   ]
  },
  {
   "cell_type": "code",
   "execution_count": 47,
   "metadata": {},
   "outputs": [],
   "source": [
    "from sklearn.preprocessing import MinMaxScaler, StandardScaler, Normalizer"
   ]
  },
  {
   "cell_type": "markdown",
   "metadata": {},
   "source": [
    "3.1. MinMax масштабирование"
   ]
  },
  {
   "cell_type": "code",
   "execution_count": 52,
   "metadata": {},
   "outputs": [
    {
     "data": {
      "image/png": "[encoded data removed]",
      "text/plain": [
       "<Figure size 432x288 with 1 Axes>"
      ]
     },
     "metadata": {},
     "output_type": "display_data"
    }
   ],
   "source": [
    "sc1 = MinMaxScaler()\n",
    "sc1_data = sc1.fit_transform(data[['tipo_assalto_id']])\n",
    "plt.hist(data['tipo_assalto_id'], 50)\n",
    "plt.show()"
   ]
  },
  {
   "cell_type": "markdown",
   "metadata": {},
   "source": [
    "3.2. Масштабирование данных на основе Z-оценки"
   ]
  },
  {
   "cell_type": "code",
   "execution_count": 51,
   "metadata": {},
   "outputs": [
    {
     "data": {
      "image/png": "[encoded data removed]",
      "text/plain": [
       "<Figure size 432x288 with 1 Axes>"
      ]
     },
     "metadata": {},
     "output_type": "display_data"
    }
   ],
   "source": [
    "sc2 = StandardScaler()\n",
    "sc2_data = sc2.fit_transform(data[['tipo_assalto_id']])\n",
    "\n",
    "plt.hist(sc2_data, 50)\n",
    "plt.show()"
   ]
  },
  {
   "cell_type": "markdown",
   "metadata": {},
   "source": [
    "3.3. Нормализация данных"
   ]
  },
  {
   "cell_type": "code",
   "execution_count": 53,
   "metadata": {},
   "outputs": [
    {
     "data": {
      "image/png": "[encoded data removed]",
      "text/plain": [
       "<Figure size 432x288 with 1 Axes>"
      ]
     },
     "metadata": {},
     "output_type": "display_data"
    }
   ],
   "source": [
    "sc3 = Normalizer()\n",
    "sc3_data = sc3.fit_transform(data[['tipo_assalto_id']])\n",
    "\n",
    "plt.hist(sc3_data, 50)\n",
    "plt.show()"
   ]
  }
 ],
 "metadata": {
  "kernelspec": {
   "display_name": "Python 3",
   "language": "python",
   "name": "python3"
  },
  "language_info": {
   "codemirror_mode": {
    "name": "ipython",
    "version": 3
   },
   "file_extension": ".py",
   "mimetype": "text/x-python",
   "name": "python",
   "nbconvert_exporter": "python",
   "pygments_lexer": "ipython3",
   "version": "3.6.3"
  }
 },
 "nbformat": 4,
 "nbformat_minor": 4
}
