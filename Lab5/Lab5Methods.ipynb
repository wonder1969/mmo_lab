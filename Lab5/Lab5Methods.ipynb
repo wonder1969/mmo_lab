{
 "cells": [
  {
   "cell_type": "markdown",
   "metadata": {},
   "source": [
    "# Задание:\n",
    "1. Выберите набор данных (датасет) для решения задачи классификации или регрессии.\n",
    "1. В случае необходимости проведите удаление или заполнение пропусков и кодирование категориальных признаков.\n",
    "1. С использованием метода train_test_split разделите выборку на обучающую и тестовую.\n",
    "1. Обучите следующие модели:\n",
    "одну из линейных моделей;\n",
    "SVM;\n",
    "дерево решений.\n",
    "1. Оцените качество моделей с помощью трех подходящих для задачи метрик. Сравните качество полученных моделей.\n",
    "1. Произведите для каждой модели подбор одного гиперпараметра с использованием GridSearchCV и кросс-валидации.\n",
    "1. Повторите пункт 4 для найденных оптимальных значений гиперпараметров. Сравните качество полученных моделей с качеством моделей, полученных в пункте 4."
   ]
  },
  {
   "cell_type": "code",
   "execution_count": 1,
   "metadata": {},
   "outputs": [],
   "source": [
    "from datetime import datetime\n",
    "import matplotlib.pyplot as plt\n",
    "import numpy as np\n",
    "import pandas as pd\n",
    "from sklearn.linear_model import Lasso, LinearRegression\n",
    "from sklearn.metrics import mean_absolute_error\n",
    "from sklearn.metrics import median_absolute_error, r2_score\n",
    "from sklearn.model_selection import GridSearchCV\n",
    "from sklearn.model_selection import ShuffleSplit\n",
    "from sklearn.model_selection import train_test_split\n",
    "from sklearn.preprocessing import StandardScaler\n",
    "from sklearn.svm import NuSVR\n",
    "from sklearn.tree import DecisionTreeRegressor\n",
    "from sklearn.tree import export_graphviz, plot_tree\n",
    "\n",
    "# Подключаем встроенные графики\n",
    "%matplotlib inline\n",
    "\n",
    "# Изменин формат сохранения графиков для улучшения отображения\n",
    "from IPython.display import set_matplotlib_formats\n",
    "set_matplotlib_formats(\"retina\")"
   ]
  },
  {
   "cell_type": "code",
   "execution_count": 2,
   "metadata": {},
   "outputs": [],
   "source": [
    "#Подлючаем данные\n",
    "data = pd.read_csv('SolarPrediction.csv', sep=\",\")"
   ]
  },
  {
   "cell_type": "code",
   "execution_count": 3,
   "metadata": {},
   "outputs": [
    {
     "data": {
      "text/plain": [
       "UNIXTime                    int64\n",
       "Data                       object\n",
       "Time                       object\n",
       "Radiation                 float64\n",
       "Temperature                 int64\n",
       "Pressure                  float64\n",
       "Humidity                    int64\n",
       "WindDirection(Degrees)    float64\n",
       "Speed                     float64\n",
       "TimeSunRise                object\n",
       "TimeSunSet                 object\n",
       "dtype: object"
      ]
     },
     "execution_count": 3,
     "metadata": {},
     "output_type": "execute_result"
    }
   ],
   "source": [
    "# Список колонок с типами данных\n",
    "data.dtypes"
   ]
  },
  {
   "cell_type": "code",
   "execution_count": 4,
   "metadata": {},
   "outputs": [
    {
     "data": {
      "text/html": [
       "<div>\n",
       "<style scoped>\n",
       "    .dataframe tbody tr th:only-of-type {\n",
       "        vertical-align: middle;\n",
       "    }\n",
       "\n",
       "    .dataframe tbody tr th {\n",
       "        vertical-align: top;\n",
       "    }\n",
       "\n",
       "    .dataframe thead th {\n",
       "        text-align: right;\n",
       "    }\n",
       "</style>\n",
       "<table border=\"1\" class=\"dataframe\">\n",
       "  <thead>\n",
       "    <tr style=\"text-align: right;\">\n",
       "      <th></th>\n",
       "      <th>UNIXTime</th>\n",
       "      <th>Data</th>\n",
       "      <th>Time</th>\n",
       "      <th>Radiation</th>\n",
       "      <th>Temperature</th>\n",
       "      <th>Pressure</th>\n",
       "      <th>Humidity</th>\n",
       "      <th>WindDirection(Degrees)</th>\n",
       "      <th>Speed</th>\n",
       "      <th>TimeSunRise</th>\n",
       "      <th>TimeSunSet</th>\n",
       "    </tr>\n",
       "  </thead>\n",
       "  <tbody>\n",
       "    <tr>\n",
       "      <th>0</th>\n",
       "      <td>1475229326</td>\n",
       "      <td>9/29/2016 12:00:00 AM</td>\n",
       "      <td>23:55:26</td>\n",
       "      <td>1.21</td>\n",
       "      <td>48</td>\n",
       "      <td>30.46</td>\n",
       "      <td>59</td>\n",
       "      <td>177.39</td>\n",
       "      <td>5.62</td>\n",
       "      <td>06:13:00</td>\n",
       "      <td>18:13:00</td>\n",
       "    </tr>\n",
       "    <tr>\n",
       "      <th>1</th>\n",
       "      <td>1475229023</td>\n",
       "      <td>9/29/2016 12:00:00 AM</td>\n",
       "      <td>23:50:23</td>\n",
       "      <td>1.21</td>\n",
       "      <td>48</td>\n",
       "      <td>30.46</td>\n",
       "      <td>58</td>\n",
       "      <td>176.78</td>\n",
       "      <td>3.37</td>\n",
       "      <td>06:13:00</td>\n",
       "      <td>18:13:00</td>\n",
       "    </tr>\n",
       "    <tr>\n",
       "      <th>2</th>\n",
       "      <td>1475228726</td>\n",
       "      <td>9/29/2016 12:00:00 AM</td>\n",
       "      <td>23:45:26</td>\n",
       "      <td>1.23</td>\n",
       "      <td>48</td>\n",
       "      <td>30.46</td>\n",
       "      <td>57</td>\n",
       "      <td>158.75</td>\n",
       "      <td>3.37</td>\n",
       "      <td>06:13:00</td>\n",
       "      <td>18:13:00</td>\n",
       "    </tr>\n",
       "    <tr>\n",
       "      <th>3</th>\n",
       "      <td>1475228421</td>\n",
       "      <td>9/29/2016 12:00:00 AM</td>\n",
       "      <td>23:40:21</td>\n",
       "      <td>1.21</td>\n",
       "      <td>48</td>\n",
       "      <td>30.46</td>\n",
       "      <td>60</td>\n",
       "      <td>137.71</td>\n",
       "      <td>3.37</td>\n",
       "      <td>06:13:00</td>\n",
       "      <td>18:13:00</td>\n",
       "    </tr>\n",
       "    <tr>\n",
       "      <th>4</th>\n",
       "      <td>1475228124</td>\n",
       "      <td>9/29/2016 12:00:00 AM</td>\n",
       "      <td>23:35:24</td>\n",
       "      <td>1.17</td>\n",
       "      <td>48</td>\n",
       "      <td>30.46</td>\n",
       "      <td>62</td>\n",
       "      <td>104.95</td>\n",
       "      <td>5.62</td>\n",
       "      <td>06:13:00</td>\n",
       "      <td>18:13:00</td>\n",
       "    </tr>\n",
       "  </tbody>\n",
       "</table>\n",
       "</div>"
      ],
      "text/plain": [
       "     UNIXTime                   Data      Time  Radiation  Temperature  \\\n",
       "0  1475229326  9/29/2016 12:00:00 AM  23:55:26       1.21           48   \n",
       "1  1475229023  9/29/2016 12:00:00 AM  23:50:23       1.21           48   \n",
       "2  1475228726  9/29/2016 12:00:00 AM  23:45:26       1.23           48   \n",
       "3  1475228421  9/29/2016 12:00:00 AM  23:40:21       1.21           48   \n",
       "4  1475228124  9/29/2016 12:00:00 AM  23:35:24       1.17           48   \n",
       "\n",
       "   Pressure  Humidity  WindDirection(Degrees)  Speed TimeSunRise TimeSunSet  \n",
       "0     30.46        59                  177.39   5.62    06:13:00   18:13:00  \n",
       "1     30.46        58                  176.78   3.37    06:13:00   18:13:00  \n",
       "2     30.46        57                  158.75   3.37    06:13:00   18:13:00  \n",
       "3     30.46        60                  137.71   3.37    06:13:00   18:13:00  \n",
       "4     30.46        62                  104.95   5.62    06:13:00   18:13:00  "
      ]
     },
     "execution_count": 4,
     "metadata": {},
     "output_type": "execute_result"
    }
   ],
   "source": [
    "data.head()"
   ]
  },
  {
   "cell_type": "code",
   "execution_count": 5,
   "metadata": {},
   "outputs": [],
   "source": [
    "#Преобразуем временные колонки в соответствующий временной формат:\n",
    "data[\"Time\"] = (pd\n",
    "                    .to_datetime(data[\"UNIXTime\"], unit=\"s\", utc=True)\n",
    "                    .dt.tz_convert(\"Pacific/Honolulu\")).dt.time\n",
    "\n",
    "data[\"TimeSunRise\"] = (pd\n",
    "                       .to_datetime(data[\"TimeSunRise\"],\n",
    "                                    infer_datetime_format=True)\n",
    "                       .dt.time)\n",
    "\n",
    "data[\"TimeSunSet\"] = (pd\n",
    "                      .to_datetime(data[\"TimeSunSet\"],\n",
    "                                   infer_datetime_format=True)\n",
    "                      .dt.time)\n",
    "\n",
    "data = data.rename({\"WindDirection(Degrees)\": \"WindDirection\"},\n",
    "                   axis=1)"
   ]
  },
  {
   "cell_type": "code",
   "execution_count": 6,
   "metadata": {},
   "outputs": [],
   "source": [
    "def time_to_second(t):\n",
    "    return ((datetime.combine(datetime.min, t) - datetime.min)\n",
    "            .total_seconds())"
   ]
  },
  {
   "cell_type": "code",
   "execution_count": 7,
   "metadata": {},
   "outputs": [
    {
     "data": {
      "text/html": [
       "<div>\n",
       "<style scoped>\n",
       "    .dataframe tbody tr th:only-of-type {\n",
       "        vertical-align: middle;\n",
       "    }\n",
       "\n",
       "    .dataframe tbody tr th {\n",
       "        vertical-align: top;\n",
       "    }\n",
       "\n",
       "    .dataframe thead th {\n",
       "        text-align: right;\n",
       "    }\n",
       "</style>\n",
       "<table border=\"1\" class=\"dataframe\">\n",
       "  <thead>\n",
       "    <tr style=\"text-align: right;\">\n",
       "      <th></th>\n",
       "      <th>Radiation</th>\n",
       "      <th>Temperature</th>\n",
       "      <th>Pressure</th>\n",
       "      <th>Humidity</th>\n",
       "      <th>WindDirection</th>\n",
       "      <th>Speed</th>\n",
       "      <th>DayPart</th>\n",
       "    </tr>\n",
       "  </thead>\n",
       "  <tbody>\n",
       "    <tr>\n",
       "      <th>0</th>\n",
       "      <td>1.21</td>\n",
       "      <td>48</td>\n",
       "      <td>30.46</td>\n",
       "      <td>59</td>\n",
       "      <td>177.39</td>\n",
       "      <td>5.62</td>\n",
       "      <td>1.475602</td>\n",
       "    </tr>\n",
       "    <tr>\n",
       "      <th>1</th>\n",
       "      <td>1.21</td>\n",
       "      <td>48</td>\n",
       "      <td>30.46</td>\n",
       "      <td>58</td>\n",
       "      <td>176.78</td>\n",
       "      <td>3.37</td>\n",
       "      <td>1.468588</td>\n",
       "    </tr>\n",
       "    <tr>\n",
       "      <th>2</th>\n",
       "      <td>1.23</td>\n",
       "      <td>48</td>\n",
       "      <td>30.46</td>\n",
       "      <td>57</td>\n",
       "      <td>158.75</td>\n",
       "      <td>3.37</td>\n",
       "      <td>1.461713</td>\n",
       "    </tr>\n",
       "    <tr>\n",
       "      <th>3</th>\n",
       "      <td>1.21</td>\n",
       "      <td>48</td>\n",
       "      <td>30.46</td>\n",
       "      <td>60</td>\n",
       "      <td>137.71</td>\n",
       "      <td>3.37</td>\n",
       "      <td>1.454653</td>\n",
       "    </tr>\n",
       "    <tr>\n",
       "      <th>4</th>\n",
       "      <td>1.17</td>\n",
       "      <td>48</td>\n",
       "      <td>30.46</td>\n",
       "      <td>62</td>\n",
       "      <td>104.95</td>\n",
       "      <td>5.62</td>\n",
       "      <td>1.447778</td>\n",
       "    </tr>\n",
       "  </tbody>\n",
       "</table>\n",
       "</div>"
      ],
      "text/plain": [
       "   Radiation  Temperature  Pressure  Humidity  WindDirection  Speed   DayPart\n",
       "0       1.21           48     30.46        59         177.39   5.62  1.475602\n",
       "1       1.21           48     30.46        58         176.78   3.37  1.468588\n",
       "2       1.23           48     30.46        57         158.75   3.37  1.461713\n",
       "3       1.21           48     30.46        60         137.71   3.37  1.454653\n",
       "4       1.17           48     30.46        62         104.95   5.62  1.447778"
      ]
     },
     "execution_count": 7,
     "metadata": {},
     "output_type": "execute_result"
    }
   ],
   "source": [
    "df = data.copy()\n",
    "\n",
    "timeInSeconds = df[\"Time\"].map(time_to_second)\n",
    "\n",
    "sunrise = df[\"TimeSunRise\"].map(time_to_second)\n",
    "sunset = df[\"TimeSunSet\"].map(time_to_second)\n",
    "df[\"DayPart\"] = (timeInSeconds - sunrise) / (sunset - sunrise)\n",
    "\n",
    "df = df.drop([\"UNIXTime\", \"Data\", \"Time\",\n",
    "              \"TimeSunRise\", \"TimeSunSet\"], axis=1)\n",
    "\n",
    "df.head()"
   ]
  },
  {
   "cell_type": "code",
   "execution_count": 8,
   "metadata": {},
   "outputs": [
    {
     "data": {
      "text/plain": [
       "Radiation        float64\n",
       "Temperature        int64\n",
       "Pressure         float64\n",
       "Humidity           int64\n",
       "WindDirection    float64\n",
       "Speed            float64\n",
       "DayPart          float64\n",
       "dtype: object"
      ]
     },
     "execution_count": 8,
     "metadata": {},
     "output_type": "execute_result"
    }
   ],
   "source": [
    "df.dtypes"
   ]
  },
  {
   "cell_type": "code",
   "execution_count": 9,
   "metadata": {},
   "outputs": [
    {
     "data": {
      "text/plain": [
       "(32686, 7)"
      ]
     },
     "execution_count": 9,
     "metadata": {},
     "output_type": "execute_result"
    }
   ],
   "source": [
    "df.shape"
   ]
  },
  {
   "cell_type": "code",
   "execution_count": 10,
   "metadata": {},
   "outputs": [
    {
     "data": {
      "text/plain": [
       "Radiation        0\n",
       "Temperature      0\n",
       "Pressure         0\n",
       "Humidity         0\n",
       "WindDirection    0\n",
       "Speed            0\n",
       "DayPart          0\n",
       "dtype: int64"
      ]
     },
     "execution_count": 10,
     "metadata": {},
     "output_type": "execute_result"
    }
   ],
   "source": [
    "# Проверим наличие пустых значений\n",
    "df.isnull().sum()"
   ]
  },
  {
   "cell_type": "markdown",
   "metadata": {},
   "source": [
    "# Разделение данных."
   ]
  },
  {
   "cell_type": "code",
   "execution_count": 11,
   "metadata": {},
   "outputs": [
    {
     "name": "stdout",
     "output_type": "stream",
     "text": [
      "   Temperature  Pressure  Humidity  WindDirection  Speed   DayPart\n",
      "0           48     30.46        59         177.39   5.62  1.475602\n",
      "1           48     30.46        58         176.78   3.37  1.468588\n",
      "2           48     30.46        57         158.75   3.37  1.461713\n",
      "3           48     30.46        60         137.71   3.37  1.454653\n",
      "4           48     30.46        62         104.95   5.62  1.447778 \n",
      "\n",
      "0    1.21\n",
      "1    1.21\n",
      "2    1.23\n",
      "3    1.21\n",
      "4    1.17\n",
      "Name: Radiation, dtype: float64\n"
     ]
    }
   ],
   "source": [
    "X = df.drop(\"Radiation\", axis=1)\n",
    "y = df[\"Radiation\"]\n",
    "print(X.head(), \"\\n\")\n",
    "print(y.head())"
   ]
  },
  {
   "cell_type": "code",
   "execution_count": 12,
   "metadata": {},
   "outputs": [
    {
     "name": "stdout",
     "output_type": "stream",
     "text": [
      "(32686, 6)\n",
      "(32686,)\n"
     ]
    }
   ],
   "source": [
    "print(X.shape)\n",
    "print(y.shape)"
   ]
  },
  {
   "cell_type": "code",
   "execution_count": 13,
   "metadata": {},
   "outputs": [
    {
     "name": "stdout",
     "output_type": "stream",
     "text": [
      "(24514, 6)\n",
      "(8172, 6)\n",
      "(24514,)\n",
      "(8172,)\n"
     ]
    }
   ],
   "source": [
    "#Разделим выборку на тренировочкую и тестовую\n",
    "X_train, X_test, y_train, y_test = train_test_split(X, y,\n",
    "                            test_size=0.25, random_state=346705925)\n",
    "print(X_train.shape)\n",
    "print(X_test.shape)\n",
    "print(y_train.shape)\n",
    "print(y_test.shape)"
   ]
  },
  {
   "cell_type": "markdown",
   "metadata": {},
   "source": [
    "# Обучение моделей"
   ]
  },
  {
   "cell_type": "code",
   "execution_count": 14,
   "metadata": {},
   "outputs": [],
   "source": [
    "#функция, которая считает метрики построенной модели:\n",
    "def test_model(model):\n",
    "    print(\"mean_absolute_error:\",\n",
    "          mean_absolute_error(y_test, model.predict(X_test)))\n",
    "    print(\"median_absolute_error:\",\n",
    "          median_absolute_error(y_test, model.predict(X_test)))\n",
    "    print(\"r2_score:\",\n",
    "          r2_score(y_test, model.predict(X_test)))"
   ]
  },
  {
   "cell_type": "markdown",
   "metadata": {},
   "source": [
    "### Линейная модель — Lasso"
   ]
  },
  {
   "cell_type": "code",
   "execution_count": 15,
   "metadata": {},
   "outputs": [
    {
     "data": {
      "text/plain": [
       "Lasso(alpha=1.0, copy_X=True, fit_intercept=True, max_iter=1000,\n",
       "      normalize=False, positive=False, precompute=False, random_state=None,\n",
       "      selection='cyclic', tol=0.0001, warm_start=False)"
      ]
     },
     "execution_count": 15,
     "metadata": {},
     "output_type": "execute_result"
    }
   ],
   "source": [
    "#Попробуем метод Lasso с гиперпараметром alpha=1:\n",
    "las_1 = Lasso(alpha=1.0)\n",
    "las_1.fit(X_train, y_train)"
   ]
  },
  {
   "cell_type": "code",
   "execution_count": 16,
   "metadata": {},
   "outputs": [
    {
     "name": "stdout",
     "output_type": "stream",
     "text": [
      "mean_absolute_error: 157.96025861976267\n",
      "median_absolute_error: 124.33161677031507\n",
      "r2_score: 0.5910368441088809\n"
     ]
    }
   ],
   "source": [
    "test_model(las_1)"
   ]
  },
  {
   "cell_type": "markdown",
   "metadata": {},
   "source": [
    "### SVM"
   ]
  },
  {
   "cell_type": "code",
   "execution_count": 17,
   "metadata": {},
   "outputs": [
    {
     "data": {
      "text/plain": [
       "NuSVR(C=1.0, cache_size=200, coef0=0.0, degree=3, gamma='scale', kernel='rbf',\n",
       "      max_iter=-1, nu=0.5, shrinking=True, tol=0.001, verbose=False)"
      ]
     },
     "execution_count": 17,
     "metadata": {},
     "output_type": "execute_result"
    }
   ],
   "source": [
    "#Попробуем метод NuSVR с гиперпараметром nu=0.5:\n",
    "nusvr_05 = NuSVR(nu=0.5, gamma='scale')\n",
    "nusvr_05.fit(X_train, y_train)"
   ]
  },
  {
   "cell_type": "code",
   "execution_count": 18,
   "metadata": {},
   "outputs": [
    {
     "name": "stdout",
     "output_type": "stream",
     "text": [
      "mean_absolute_error: 172.92453188479877\n",
      "median_absolute_error: 101.9877834943342\n",
      "r2_score: 0.41677135378183905\n"
     ]
    }
   ],
   "source": [
    "test_model(nusvr_05)"
   ]
  },
  {
   "cell_type": "markdown",
   "metadata": {},
   "source": [
    "### Дерево решений"
   ]
  },
  {
   "cell_type": "code",
   "execution_count": 19,
   "metadata": {},
   "outputs": [
    {
     "data": {
      "text/plain": [
       "DecisionTreeRegressor(ccp_alpha=0.0, criterion='mse', max_depth=None,\n",
       "                      max_features=None, max_leaf_nodes=None,\n",
       "                      min_impurity_decrease=0.0, min_impurity_split=None,\n",
       "                      min_samples_leaf=1, min_samples_split=2,\n",
       "                      min_weight_fraction_leaf=0.0, presort='deprecated',\n",
       "                      random_state=None, splitter='best')"
      ]
     },
     "execution_count": 19,
     "metadata": {},
     "output_type": "execute_result"
    }
   ],
   "source": [
    "#Попробуем дерево решений с неограниченной глубиной дерева:\n",
    "dt_none = DecisionTreeRegressor(max_depth=None)\n",
    "dt_none.fit(X_train, y_train)"
   ]
  },
  {
   "cell_type": "code",
   "execution_count": 20,
   "metadata": {},
   "outputs": [
    {
     "name": "stdout",
     "output_type": "stream",
     "text": [
      "mean_absolute_error: 49.41742902594224\n",
      "median_absolute_error: 0.7249999999999996\n",
      "r2_score: 0.8371994122507448\n"
     ]
    }
   ],
   "source": [
    "test_model(dt_none)"
   ]
  },
  {
   "cell_type": "code",
   "execution_count": 21,
   "metadata": {},
   "outputs": [
    {
     "name": "stdout",
     "output_type": "stream",
     "text": [
      "Всего узлов: 42969\n",
      "Листовых узлов: 21485\n",
      "Глубина дерева: 43\n",
      "Минимальная глубина листьев дерева: 7\n",
      "Средняя глубина листьев дерева: 20.743914358855015\n"
     ]
    }
   ],
   "source": [
    "def stat_tree(estimator):\n",
    "    n_nodes = estimator.tree_.node_count\n",
    "    children_left = estimator.tree_.children_left\n",
    "    children_right = estimator.tree_.children_right\n",
    "\n",
    "    node_depth = np.zeros(shape=n_nodes, dtype=np.int64)\n",
    "    is_leaves = np.zeros(shape=n_nodes, dtype=bool)\n",
    "    stack = [(0, -1)]  # seed is the root node id and its parent depth\n",
    "    while len(stack) > 0:\n",
    "        node_id, parent_depth = stack.pop()\n",
    "        node_depth[node_id] = parent_depth + 1\n",
    "\n",
    "        # If we have a test node\n",
    "        if (children_left[node_id] != children_right[node_id]):\n",
    "            stack.append((children_left[node_id], parent_depth + 1))\n",
    "            stack.append((children_right[node_id], parent_depth + 1))\n",
    "        else:\n",
    "            is_leaves[node_id] = True\n",
    "\n",
    "    print(\"Всего узлов:\", n_nodes)\n",
    "    print(\"Листовых узлов:\", sum(is_leaves))\n",
    "    print(\"Глубина дерева:\", max(node_depth))\n",
    "    print(\"Минимальная глубина листьев дерева:\", min(node_depth[is_leaves]))\n",
    "    print(\"Средняя глубина листьев дерева:\", node_depth[is_leaves].mean())\n",
    "\n",
    "#Оценим структуру получившегося дерева решений:\n",
    "stat_tree(dt_none)"
   ]
  },
  {
   "cell_type": "markdown",
   "metadata": {},
   "source": [
    "# Подбор гиперпараметра K"
   ]
  },
  {
   "cell_type": "markdown",
   "metadata": {},
   "source": [
    "### Линейная модель — Lasso"
   ]
  },
  {
   "cell_type": "code",
   "execution_count": 22,
   "metadata": {},
   "outputs": [
    {
     "data": {
      "text/plain": [
       "[{'alpha': array([1.000e-03, 1.010e-01, 2.010e-01, 3.010e-01, 4.010e-01, 5.010e-01,\n",
       "         6.010e-01, 7.010e-01, 8.010e-01, 9.010e-01, 1.001e+00, 1.101e+00,\n",
       "         1.201e+00, 1.301e+00, 1.401e+00, 1.501e+00, 1.601e+00, 1.701e+00,\n",
       "         1.801e+00, 1.901e+00, 2.001e+00])}]"
      ]
     },
     "execution_count": 22,
     "metadata": {},
     "output_type": "execute_result"
    }
   ],
   "source": [
    "#Cписок настраиваемых параметров:\n",
    "param_range = np.arange(0.001, 2.01, 0.1)\n",
    "tuned_parameters = [{'alpha': param_range}]\n",
    "tuned_parameters"
   ]
  },
  {
   "cell_type": "code",
   "execution_count": 23,
   "metadata": {},
   "outputs": [
    {
     "data": {
      "text/plain": [
       "Lasso(alpha=0.101, copy_X=True, fit_intercept=True, max_iter=1000,\n",
       "      normalize=False, positive=False, precompute=False, random_state=None,\n",
       "      selection='cyclic', tol=0.0001, warm_start=False)"
      ]
     },
     "execution_count": 23,
     "metadata": {},
     "output_type": "execute_result"
    }
   ],
   "source": [
    "# Подбор параметра\n",
    "gs = GridSearchCV(Lasso(), tuned_parameters,\n",
    "                  cv=ShuffleSplit(n_splits=10), scoring=\"r2\",\n",
    "                  return_train_score=True, n_jobs=-1)\n",
    "gs.fit(X, y)\n",
    "gs.best_estimator_"
   ]
  },
  {
   "cell_type": "code",
   "execution_count": 24,
   "metadata": {},
   "outputs": [
    {
     "data": {
      "image/png": "[encoded data removed]",
      "text/plain": [
       "<Figure size 432x288 with 1 Axes>"
      ]
     },
     "metadata": {
      "image/png": {
       "height": 248,
       "width": 384
      },
      "needs_background": "light"
     },
     "output_type": "display_data"
    }
   ],
   "source": [
    "plt.plot(param_range, gs.cv_results_[\"mean_train_score\"]);"
   ]
  },
  {
   "cell_type": "code",
   "execution_count": 25,
   "metadata": {},
   "outputs": [
    {
     "data": {
      "image/png": "[encoded data removed]",
      "text/plain": [
       "<Figure size 432x288 with 1 Axes>"
      ]
     },
     "metadata": {
      "image/png": {
       "height": 248,
       "width": 384
      },
      "needs_background": "light"
     },
     "output_type": "display_data"
    }
   ],
   "source": [
    "plt.plot(param_range, gs.cv_results_[\"mean_test_score\"]);"
   ]
  },
  {
   "cell_type": "code",
   "execution_count": 26,
   "metadata": {},
   "outputs": [
    {
     "name": "stdout",
     "output_type": "stream",
     "text": [
      "mean_absolute_error: 156.41472692069752\n",
      "median_absolute_error: 122.7350926314856\n",
      "r2_score: 0.5961416061536914\n"
     ]
    }
   ],
   "source": [
    "reg = LinearRegression()\n",
    "reg.fit(X_train, y_train)\n",
    "test_model(reg)"
   ]
  },
  {
   "cell_type": "markdown",
   "metadata": {},
   "source": [
    "### SVM"
   ]
  },
  {
   "cell_type": "code",
   "execution_count": 27,
   "metadata": {},
   "outputs": [
    {
     "data": {
      "text/plain": [
       "[{'nu': array([0.1, 0.2, 0.3, 0.4, 0.5, 0.6, 0.7, 0.8, 0.9, 1. ])}]"
      ]
     },
     "execution_count": 27,
     "metadata": {},
     "output_type": "execute_result"
    }
   ],
   "source": [
    "#Cписок настраиваемых параметров:\n",
    "param_range = np.arange(0.1, 1.01, 0.1)\n",
    "tuned_parameters = [{'nu': param_range}]\n",
    "tuned_parameters"
   ]
  },
  {
   "cell_type": "code",
   "execution_count": 28,
   "metadata": {},
   "outputs": [
    {
     "data": {
      "text/plain": [
       "NuSVR(C=1.0, cache_size=200, coef0=0.0, degree=3, gamma='scale', kernel='rbf',\n",
       "      max_iter=-1, nu=0.5, shrinking=True, tol=0.001, verbose=False)"
      ]
     },
     "execution_count": 28,
     "metadata": {},
     "output_type": "execute_result"
    }
   ],
   "source": [
    "# Подбор параметра\n",
    "gs = GridSearchCV(NuSVR(gamma='scale'), tuned_parameters,\n",
    "                  cv=ShuffleSplit(n_splits=10), scoring=\"r2\",\n",
    "                  return_train_score=True, n_jobs=-1)\n",
    "gs.fit(X, y)\n",
    "gs.best_estimator_"
   ]
  },
  {
   "cell_type": "code",
   "execution_count": 29,
   "metadata": {},
   "outputs": [
    {
     "data": {
      "image/png": "[encoded data removed]",
      "text/plain": [
       "<Figure size 432x288 with 1 Axes>"
      ]
     },
     "metadata": {
      "image/png": {
       "height": 248,
       "width": 380
      },
      "needs_background": "light"
     },
     "output_type": "display_data"
    }
   ],
   "source": [
    "plt.plot(param_range, gs.cv_results_[\"mean_train_score\"]);"
   ]
  },
  {
   "cell_type": "code",
   "execution_count": 30,
   "metadata": {},
   "outputs": [
    {
     "data": {
      "image/png": "[encoded data removed]",
      "text/plain": [
       "<Figure size 432x288 with 1 Axes>"
      ]
     },
     "metadata": {
      "image/png": {
       "height": 248,
       "width": 380
      },
      "needs_background": "light"
     },
     "output_type": "display_data"
    }
   ],
   "source": [
    "plt.plot(param_range, gs.cv_results_[\"mean_test_score\"]);"
   ]
  },
  {
   "cell_type": "markdown",
   "metadata": {},
   "source": [
    "### Дерево решений"
   ]
  },
  {
   "cell_type": "code",
   "execution_count": 31,
   "metadata": {},
   "outputs": [
    {
     "data": {
      "text/plain": [
       "[{'max_depth': array([ 1,  3,  5,  7,  9, 11, 13, 15, 17, 19, 21, 23, 25, 27, 29, 31, 33,\n",
       "         35, 37, 39, 41, 43, 45, 47, 49])}]"
      ]
     },
     "execution_count": 31,
     "metadata": {},
     "output_type": "execute_result"
    }
   ],
   "source": [
    "#Cписок настраиваемых параметров:\n",
    "param_range = np.arange(1, 51, 2)\n",
    "tuned_parameters = [{'max_depth': param_range}]\n",
    "tuned_parameters"
   ]
  },
  {
   "cell_type": "code",
   "execution_count": 32,
   "metadata": {},
   "outputs": [
    {
     "data": {
      "text/plain": [
       "DecisionTreeRegressor(ccp_alpha=0.0, criterion='mse', max_depth=11,\n",
       "                      max_features=None, max_leaf_nodes=None,\n",
       "                      min_impurity_decrease=0.0, min_impurity_split=None,\n",
       "                      min_samples_leaf=1, min_samples_split=2,\n",
       "                      min_weight_fraction_leaf=0.0, presort='deprecated',\n",
       "                      random_state=None, splitter='best')"
      ]
     },
     "execution_count": 32,
     "metadata": {},
     "output_type": "execute_result"
    }
   ],
   "source": [
    "# Подбор параметра\n",
    "gs = GridSearchCV(DecisionTreeRegressor(), tuned_parameters,\n",
    "                  cv=ShuffleSplit(n_splits=10), scoring=\"r2\",\n",
    "                  return_train_score=True, n_jobs=-1)\n",
    "gs.fit(X, y)\n",
    "gs.best_estimator_"
   ]
  },
  {
   "cell_type": "code",
   "execution_count": 33,
   "metadata": {},
   "outputs": [
    {
     "data": {
      "image/png": "[encoded data removed]",
      "text/plain": [
       "<Figure size 432x288 with 1 Axes>"
      ]
     },
     "metadata": {
      "image/png": {
       "height": 248,
       "width": 372
      },
      "needs_background": "light"
     },
     "output_type": "display_data"
    }
   ],
   "source": [
    "plt.plot(param_range, gs.cv_results_[\"mean_train_score\"]);"
   ]
  },
  {
   "cell_type": "code",
   "execution_count": 34,
   "metadata": {},
   "outputs": [
    {
     "data": {
      "image/png": "[encoded data removed]",
      "text/plain": [
       "<Figure size 432x288 with 1 Axes>"
      ]
     },
     "metadata": {
      "image/png": {
       "height": 248,
       "width": 378
      },
      "needs_background": "light"
     },
     "output_type": "display_data"
    }
   ],
   "source": [
    "plt.plot(param_range, gs.cv_results_[\"mean_test_score\"]);"
   ]
  },
  {
   "cell_type": "code",
   "execution_count": 35,
   "metadata": {},
   "outputs": [
    {
     "data": {
      "text/plain": [
       "[{'max_depth': array([ 7,  8,  9, 10, 11, 12, 13])}]"
      ]
     },
     "execution_count": 35,
     "metadata": {},
     "output_type": "execute_result"
    }
   ],
   "source": [
    "param_range = np.arange(7, 14, 1)\n",
    "tuned_parameters = [{'max_depth': param_range}]\n",
    "tuned_parameters"
   ]
  },
  {
   "cell_type": "code",
   "execution_count": 36,
   "metadata": {},
   "outputs": [
    {
     "data": {
      "text/plain": [
       "DecisionTreeRegressor(ccp_alpha=0.0, criterion='mse', max_depth=10,\n",
       "                      max_features=None, max_leaf_nodes=None,\n",
       "                      min_impurity_decrease=0.0, min_impurity_split=None,\n",
       "                      min_samples_leaf=1, min_samples_split=2,\n",
       "                      min_weight_fraction_leaf=0.0, presort='deprecated',\n",
       "                      random_state=None, splitter='best')"
      ]
     },
     "execution_count": 36,
     "metadata": {},
     "output_type": "execute_result"
    }
   ],
   "source": [
    "gs = GridSearchCV(DecisionTreeRegressor(), tuned_parameters,\n",
    "                  cv=ShuffleSplit(n_splits=10), scoring=\"r2\",\n",
    "                  return_train_score=True, n_jobs=-1)\n",
    "gs.fit(X, y)\n",
    "gs.best_estimator_"
   ]
  },
  {
   "cell_type": "code",
   "execution_count": 38,
   "metadata": {},
   "outputs": [
    {
     "data": {
      "image/png": "[encoded data removed]",
      "text/plain": [
       "<Figure size 432x288 with 1 Axes>"
      ]
     },
     "metadata": {
      "image/png": {
       "height": 248,
       "width": 384
      },
      "needs_background": "light"
     },
     "output_type": "display_data"
    }
   ],
   "source": [
    "plt.plot(param_range, gs.cv_results_[\"mean_test_score\"]);"
   ]
  },
  {
   "cell_type": "code",
   "execution_count": 39,
   "metadata": {},
   "outputs": [
    {
     "name": "stdout",
     "output_type": "stream",
     "text": [
      "mean_absolute_error: 49.19982366267469\n",
      "median_absolute_error: 0.9458444902162735\n",
      "r2_score: 0.8729318611050234\n"
     ]
    }
   ],
   "source": [
    "reg = gs.best_estimator_\n",
    "reg.fit(X_train, y_train)\n",
    "test_model(reg)"
   ]
  },
  {
   "cell_type": "code",
   "execution_count": 40,
   "metadata": {},
   "outputs": [
    {
     "name": "stdout",
     "output_type": "stream",
     "text": [
      "Всего узлов: 1711\n",
      "Листовых узлов: 856\n",
      "Глубина дерева: 10\n",
      "Минимальная глубина листьев дерева: 7\n",
      "Средняя глубина листьев дерева: 9.850467289719626\n"
     ]
    }
   ],
   "source": [
    "stat_tree(reg)"
   ]
  }
 ],
 "metadata": {
  "kernelspec": {
   "display_name": "Python 3",
   "language": "python",
   "name": "python3"
  },
  "language_info": {
   "codemirror_mode": {
    "name": "ipython",
    "version": 3
   },
   "file_extension": ".py",
   "mimetype": "text/x-python",
   "name": "python",
   "nbconvert_exporter": "python",
   "pygments_lexer": "ipython3",
   "version": "3.6.3"
  }
 },
 "nbformat": 4,
 "nbformat_minor": 4
}
